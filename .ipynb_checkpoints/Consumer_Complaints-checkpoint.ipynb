{
 "cells": [
  {
   "cell_type": "markdown",
   "metadata": {},
   "source": [
    "#Consumer Complaints"
   ]
  },
  {
   "cell_type": "code",
   "execution_count": 53,
   "metadata": {
    "collapsed": false
   },
   "outputs": [],
   "source": [
    "import pandas as pd\n",
    "import numpy as np\n",
    "import matplotlib.pyplot as plt\n",
    "import seaborn as sns\n",
    "import datetime\n"
   ]
  },
  {
   "cell_type": "code",
   "execution_count": 54,
   "metadata": {
    "collapsed": true
   },
   "outputs": [],
   "source": [
    "%matplotlib inline"
   ]
  },
  {
   "cell_type": "code",
   "execution_count": 55,
   "metadata": {
    "collapsed": false
   },
   "outputs": [
    {
     "name": "stdout",
     "output_type": "stream",
     "text": [
      "Complaint ID,Product,Sub-product,Issue,Sub-issue,State,ZIP code,Submitted via,Date received,Date sent to company,Company,Company response,Timely response?,Consumer disputed?\r\n",
      "1177167,Debt collection,,Cont'd attempts collect debt not owed,Debt is not mine,TX,77068,Web,12/31/2014,12/31/2014,Ad Astra Recovery Services Inc,Closed with explanation,Yes,\r\n",
      "1177166,Debt collection,,Cont'd attempts collect debt not owed,Debt is not mine,TX,77068,Web,12/31/2014,12/31/2014,\"Unique Management Services, Inc\",Closed with explanation,Yes,\r\n",
      "1177165,Debt collection,,Cont'd attempts collect debt not owed,Debt is not mine,TX,77068,Web,12/31/2014,12/31/2014,\"CL Holdings, LLC\",Closed with monetary relief,Yes,\r\n",
      "1177164,Debt collection,,Cont'd attempts collect debt not owed,Debt is not mine,TX,77068,Web,12/31/2014,12/31/2014,\"Enhanced Recovery Company, LLC\",Closed with non-monetary relief,Yes,\r\n",
      "1177163,Debt collection,,Cont'd attempts collect debt not owed,Debt is not mine,TX,77068,Web,12/31/2014,12/31/2014,\"Enhanced Acquisitions, LLC\",Closed with explanation,Yes,\r\n",
      "1177162,Debt collection,,Cont'd attempts collect debt not owed,Debt is not mine,TX,77068,Web,12/31/2014,12/31/2014,\"Credit Systems International, Inc.\",Closed with explanation,Yes,\r\n",
      "1177154,Credit card,,Billing disputes,,GA,31322,Web,12/31/2014,01/07/2015,Amex,Closed with explanation,Yes,\r\n",
      "1177143,Debt collection,Payday loan,Taking/threatening an illegal action,Threatened arrest/jail if do not pay,AZ,85023,Web,12/31/2014,01/07/2015,Speedy Cash Holdings,Closed,Yes,\r\n",
      "1177140,Debt collection,,Cont'd attempts collect debt not owed,Debt is not mine,TX,77045,Web,12/31/2014,12/31/2014,\"Afni, Inc.\",Closed with explanation,Yes,\r\n"
     ]
    }
   ],
   "source": [
    "!head complaints_dec_2014.csv"
   ]
  },
  {
   "cell_type": "code",
   "execution_count": 56,
   "metadata": {
    "collapsed": false
   },
   "outputs": [
    {
     "data": {
      "text/html": [
       "<div>\n",
       "<table border=\"1\" class=\"dataframe\">\n",
       "  <thead>\n",
       "    <tr style=\"text-align: right;\">\n",
       "      <th></th>\n",
       "      <th>Complaint ID</th>\n",
       "      <th>Product</th>\n",
       "      <th>Sub-product</th>\n",
       "      <th>Issue</th>\n",
       "      <th>Sub-issue</th>\n",
       "      <th>State</th>\n",
       "      <th>ZIP code</th>\n",
       "      <th>Submitted via</th>\n",
       "      <th>Date received</th>\n",
       "      <th>Date sent to company</th>\n",
       "      <th>Company</th>\n",
       "      <th>Company response</th>\n",
       "      <th>Timely response?</th>\n",
       "      <th>Consumer disputed?</th>\n",
       "    </tr>\n",
       "  </thead>\n",
       "  <tbody>\n",
       "    <tr>\n",
       "      <th>0</th>\n",
       "      <td>1177167</td>\n",
       "      <td>Debt collection</td>\n",
       "      <td>NaN</td>\n",
       "      <td>Cont'd attempts collect debt not owed</td>\n",
       "      <td>Debt is not mine</td>\n",
       "      <td>TX</td>\n",
       "      <td>77068</td>\n",
       "      <td>Web</td>\n",
       "      <td>12/31/2014</td>\n",
       "      <td>12/31/2014</td>\n",
       "      <td>Ad Astra Recovery Services Inc</td>\n",
       "      <td>Closed with explanation</td>\n",
       "      <td>Yes</td>\n",
       "      <td>NaN</td>\n",
       "    </tr>\n",
       "    <tr>\n",
       "      <th>1</th>\n",
       "      <td>1177166</td>\n",
       "      <td>Debt collection</td>\n",
       "      <td>NaN</td>\n",
       "      <td>Cont'd attempts collect debt not owed</td>\n",
       "      <td>Debt is not mine</td>\n",
       "      <td>TX</td>\n",
       "      <td>77068</td>\n",
       "      <td>Web</td>\n",
       "      <td>12/31/2014</td>\n",
       "      <td>12/31/2014</td>\n",
       "      <td>Unique Management Services, Inc</td>\n",
       "      <td>Closed with explanation</td>\n",
       "      <td>Yes</td>\n",
       "      <td>NaN</td>\n",
       "    </tr>\n",
       "    <tr>\n",
       "      <th>2</th>\n",
       "      <td>1177165</td>\n",
       "      <td>Debt collection</td>\n",
       "      <td>NaN</td>\n",
       "      <td>Cont'd attempts collect debt not owed</td>\n",
       "      <td>Debt is not mine</td>\n",
       "      <td>TX</td>\n",
       "      <td>77068</td>\n",
       "      <td>Web</td>\n",
       "      <td>12/31/2014</td>\n",
       "      <td>12/31/2014</td>\n",
       "      <td>CL Holdings, LLC</td>\n",
       "      <td>Closed with monetary relief</td>\n",
       "      <td>Yes</td>\n",
       "      <td>NaN</td>\n",
       "    </tr>\n",
       "    <tr>\n",
       "      <th>3</th>\n",
       "      <td>1177164</td>\n",
       "      <td>Debt collection</td>\n",
       "      <td>NaN</td>\n",
       "      <td>Cont'd attempts collect debt not owed</td>\n",
       "      <td>Debt is not mine</td>\n",
       "      <td>TX</td>\n",
       "      <td>77068</td>\n",
       "      <td>Web</td>\n",
       "      <td>12/31/2014</td>\n",
       "      <td>12/31/2014</td>\n",
       "      <td>Enhanced Recovery Company, LLC</td>\n",
       "      <td>Closed with non-monetary relief</td>\n",
       "      <td>Yes</td>\n",
       "      <td>NaN</td>\n",
       "    </tr>\n",
       "    <tr>\n",
       "      <th>4</th>\n",
       "      <td>1177163</td>\n",
       "      <td>Debt collection</td>\n",
       "      <td>NaN</td>\n",
       "      <td>Cont'd attempts collect debt not owed</td>\n",
       "      <td>Debt is not mine</td>\n",
       "      <td>TX</td>\n",
       "      <td>77068</td>\n",
       "      <td>Web</td>\n",
       "      <td>12/31/2014</td>\n",
       "      <td>12/31/2014</td>\n",
       "      <td>Enhanced Acquisitions, LLC</td>\n",
       "      <td>Closed with explanation</td>\n",
       "      <td>Yes</td>\n",
       "      <td>NaN</td>\n",
       "    </tr>\n",
       "  </tbody>\n",
       "</table>\n",
       "</div>"
      ],
      "text/plain": [
       "   Complaint ID          Product Sub-product  \\\n",
       "0       1177167  Debt collection         NaN   \n",
       "1       1177166  Debt collection         NaN   \n",
       "2       1177165  Debt collection         NaN   \n",
       "3       1177164  Debt collection         NaN   \n",
       "4       1177163  Debt collection         NaN   \n",
       "\n",
       "                                   Issue         Sub-issue State  ZIP code  \\\n",
       "0  Cont'd attempts collect debt not owed  Debt is not mine    TX     77068   \n",
       "1  Cont'd attempts collect debt not owed  Debt is not mine    TX     77068   \n",
       "2  Cont'd attempts collect debt not owed  Debt is not mine    TX     77068   \n",
       "3  Cont'd attempts collect debt not owed  Debt is not mine    TX     77068   \n",
       "4  Cont'd attempts collect debt not owed  Debt is not mine    TX     77068   \n",
       "\n",
       "  Submitted via Date received Date sent to company  \\\n",
       "0           Web    12/31/2014           12/31/2014   \n",
       "1           Web    12/31/2014           12/31/2014   \n",
       "2           Web    12/31/2014           12/31/2014   \n",
       "3           Web    12/31/2014           12/31/2014   \n",
       "4           Web    12/31/2014           12/31/2014   \n",
       "\n",
       "                           Company                 Company response  \\\n",
       "0   Ad Astra Recovery Services Inc          Closed with explanation   \n",
       "1  Unique Management Services, Inc          Closed with explanation   \n",
       "2                 CL Holdings, LLC      Closed with monetary relief   \n",
       "3   Enhanced Recovery Company, LLC  Closed with non-monetary relief   \n",
       "4       Enhanced Acquisitions, LLC          Closed with explanation   \n",
       "\n",
       "  Timely response? Consumer disputed?  \n",
       "0              Yes                NaN  \n",
       "1              Yes                NaN  \n",
       "2              Yes                NaN  \n",
       "3              Yes                NaN  \n",
       "4              Yes                NaN  "
      ]
     },
     "execution_count": 56,
     "metadata": {},
     "output_type": "execute_result"
    }
   ],
   "source": [
    "consumer_complaints = pd.read_csv(\"complaints_dec_2014.csv\")\n",
    "consumer_complaints.head()"
   ]
  },
  {
   "cell_type": "code",
   "execution_count": 57,
   "metadata": {
    "collapsed": false
   },
   "outputs": [
    {
     "data": {
      "text/html": [
       "<div>\n",
       "<table border=\"1\" class=\"dataframe\">\n",
       "  <thead>\n",
       "    <tr style=\"text-align: right;\">\n",
       "      <th></th>\n",
       "      <th>Complaint ID</th>\n",
       "      <th>ZIP code</th>\n",
       "    </tr>\n",
       "  </thead>\n",
       "  <tbody>\n",
       "    <tr>\n",
       "      <th>count</th>\n",
       "      <td>11543.000000</td>\n",
       "      <td>11409.000000</td>\n",
       "    </tr>\n",
       "    <tr>\n",
       "      <th>mean</th>\n",
       "      <td>1157276.786451</td>\n",
       "      <td>50259.375756</td>\n",
       "    </tr>\n",
       "    <tr>\n",
       "      <th>std</th>\n",
       "      <td>11908.384438</td>\n",
       "      <td>30712.384693</td>\n",
       "    </tr>\n",
       "    <tr>\n",
       "      <th>min</th>\n",
       "      <td>1136157.000000</td>\n",
       "      <td>10.000000</td>\n",
       "    </tr>\n",
       "    <tr>\n",
       "      <th>25%</th>\n",
       "      <td>1146708.500000</td>\n",
       "      <td>23234.000000</td>\n",
       "    </tr>\n",
       "    <tr>\n",
       "      <th>50%</th>\n",
       "      <td>1156954.000000</td>\n",
       "      <td>44203.000000</td>\n",
       "    </tr>\n",
       "    <tr>\n",
       "      <th>75%</th>\n",
       "      <td>1167656.000000</td>\n",
       "      <td>78623.000000</td>\n",
       "    </tr>\n",
       "    <tr>\n",
       "      <th>max</th>\n",
       "      <td>1178091.000000</td>\n",
       "      <td>99712.000000</td>\n",
       "    </tr>\n",
       "  </tbody>\n",
       "</table>\n",
       "</div>"
      ],
      "text/plain": [
       "         Complaint ID      ZIP code\n",
       "count    11543.000000  11409.000000\n",
       "mean   1157276.786451  50259.375756\n",
       "std      11908.384438  30712.384693\n",
       "min    1136157.000000     10.000000\n",
       "25%    1146708.500000  23234.000000\n",
       "50%    1156954.000000  44203.000000\n",
       "75%    1167656.000000  78623.000000\n",
       "max    1178091.000000  99712.000000"
      ]
     },
     "execution_count": 57,
     "metadata": {},
     "output_type": "execute_result"
    }
   ],
   "source": [
    "consumer_complaints.describe()"
   ]
  },
  {
   "cell_type": "markdown",
   "metadata": {},
   "source": [
    "##Number of Complaints by Product"
   ]
  },
  {
   "cell_type": "code",
   "execution_count": 58,
   "metadata": {
    "collapsed": false
   },
   "outputs": [
    {
     "data": {
      "text/plain": [
       "<matplotlib.axes._subplots.AxesSubplot at 0x109c67e10>"
      ]
     },
     "execution_count": 58,
     "metadata": {},
     "output_type": "execute_result"
    },
    {
     "data": {
      "image/png": "[encoded data removed]",
      "text/plain": [
       "<matplotlib.figure.Figure at 0x109b3fba8>"
      ]
     },
     "metadata": {},
     "output_type": "display_data"
    }
   ],
   "source": [
    "consumer_complaints[\"Product\"].value_counts().plot(kind=\"bar\")"
   ]
  },
  {
   "cell_type": "markdown",
   "metadata": {
    "collapsed": true
   },
   "source": [
    "####This bar graph shows the number of complaints by product. There is an exponential decrease in complaints by product from the Mortage category down to the Other Financial Service category."
   ]
  },
  {
   "cell_type": "markdown",
   "metadata": {},
   "source": [
    "##Number of Complaints by Company(Top 10):"
   ]
  },
  {
   "cell_type": "code",
   "execution_count": 59,
   "metadata": {
    "collapsed": false
   },
   "outputs": [
    {
     "data": {
      "text/plain": [
       "Bank of America        766\n",
       "Equifax                737\n",
       "Experian               675\n",
       "TransUnion             604\n",
       "Wells Fargo            598\n",
       "JPMorgan Chase         545\n",
       "Ocwen                  408\n",
       "Citibank               403\n",
       "Nationstar Mortgage    357\n",
       "Capital One            252\n",
       "dtype: int64"
      ]
     },
     "execution_count": 59,
     "metadata": {},
     "output_type": "execute_result"
    }
   ],
   "source": [
    "consumer_complaints[\"Company\"].value_counts()[0:10]"
   ]
  },
  {
   "cell_type": "code",
   "execution_count": 60,
   "metadata": {
    "collapsed": false
   },
   "outputs": [
    {
     "data": {
      "text/plain": [
       "<matplotlib.axes._subplots.AxesSubplot at 0x109b094a8>"
      ]
     },
     "execution_count": 60,
     "metadata": {},
     "output_type": "execute_result"
    },
    {
     "data": {
      "image/png": "[encoded data removed]",
      "text/plain": [
       "<matplotlib.figure.Figure at 0x109b1af98>"
      ]
     },
     "metadata": {},
     "output_type": "display_data"
    }
   ],
   "source": [
    "consumer_complaints[\"Company\"].value_counts()[0:10].plot(kind=\"bar\")"
   ]
  },
  {
   "cell_type": "markdown",
   "metadata": {},
   "source": [
    "####Bar graph for number of complaints by company(top 10). Bank of America had the most complaints with 766.  Capital One had the least amount of complaints with  252."
   ]
  },
  {
   "cell_type": "markdown",
   "metadata": {},
   "source": [
    "##Number of Complaints by company response"
   ]
  },
  {
   "cell_type": "code",
   "execution_count": 61,
   "metadata": {
    "collapsed": false
   },
   "outputs": [
    {
     "data": {
      "text/plain": [
       "Closed with explanation            8185\n",
       "Closed with non-monetary relief    1253\n",
       "In progress                        1056\n",
       "Closed with monetary relief         643\n",
       "Closed                              239\n",
       "Untimely response                   167\n",
       "dtype: int64"
      ]
     },
     "execution_count": 61,
     "metadata": {},
     "output_type": "execute_result"
    }
   ],
   "source": [
    "consumer_complaints[\"Company response\"].value_counts()"
   ]
  },
  {
   "cell_type": "code",
   "execution_count": 62,
   "metadata": {
    "collapsed": false
   },
   "outputs": [
    {
     "data": {
      "text/plain": [
       "<matplotlib.axes._subplots.AxesSubplot at 0x109e56128>"
      ]
     },
     "execution_count": 62,
     "metadata": {},
     "output_type": "execute_result"
    },
    {
     "data": {
      "image/png": "[encoded data removed]",
      "text/plain": [
       "<matplotlib.figure.Figure at 0x109ed0fd0>"
      ]
     },
     "metadata": {},
     "output_type": "display_data"
    }
   ],
   "source": [
    "consumer_complaints[\"Company response\"].value_counts().plot(kind=\"bar\")"
   ]
  },
  {
   "cell_type": "markdown",
   "metadata": {},
   "source": [
    "####Bar graph of the number of complaints by company response. The most complaints by company response came from Closed wtih explanation with 8185. The lowest amount of complaints by company response came from the Untimely response category of 167. "
   ]
  },
  {
   "cell_type": "markdown",
   "metadata": {
    "collapsed": true
   },
   "source": [
    "##Mean number of complaints by day of week"
   ]
  },
  {
   "cell_type": "code",
   "execution_count": 63,
   "metadata": {
    "collapsed": false
   },
   "outputs": [],
   "source": [
    "consumer_complaints[\"Date received\"] = pd.to_datetime(consumer_complaints['Date received'])\n",
    "\n"
   ]
  },
  {
   "cell_type": "code",
   "execution_count": 64,
   "metadata": {
    "collapsed": false
   },
   "outputs": [],
   "source": [
    "consumer_complaints[\"Complaint by Day\"] = consumer_complaints[\"Date received\"].apply(lambda x: x.weekday())"
   ]
  },
  {
   "cell_type": "code",
   "execution_count": 65,
   "metadata": {
    "collapsed": true
   },
   "outputs": [],
   "source": [
    "consumer_complaints.replace({\"Complaint by Day\" : {0: \"Monday\", 1: \"Tuesday\", 2: \"Wednesday\", 3: \"Thursday\", 4: \"Friday\", 5: \"Saturday\", 6: \"Sunday\"}}, inplace=True)"
   ]
  },
  {
   "cell_type": "code",
   "execution_count": 66,
   "metadata": {
    "collapsed": false
   },
   "outputs": [
    {
     "data": {
      "text/plain": [
       "<matplotlib.axes._subplots.AxesSubplot at 0x10a38c518>"
      ]
     },
     "execution_count": 66,
     "metadata": {},
     "output_type": "execute_result"
    },
    {
     "data": {
      "image/png": "[encoded data removed]",
      "text/plain": [
       "<matplotlib.figure.Figure at 0x10976bf60>"
      ]
     },
     "metadata": {},
     "output_type": "display_data"
    }
   ],
   "source": [
    "consumer_complaints[[ \"Complaint ID\", \"Complaint by Day\"]].groupby(\"Complaint by Day\").count().rename(columns={\"Complaint ID\": \"Number of Complaints\"}).plot(kind=\"barh\")"
   ]
  },
  {
   "cell_type": "markdown",
   "metadata": {},
   "source": [
    "####Based on this graph, we can conclude that at the beginning of the week( Monday, Tuesday, Wednesday) people complain more than they do later in the week( Thursday, Friday). People complain the least amount on Saturday and Sunday. "
   ]
  },
  {
   "cell_type": "code",
   "execution_count": null,
   "metadata": {
    "collapsed": true
   },
   "outputs": [],
   "source": []
  }
 ],
 "metadata": {
  "kernelspec": {
   "display_name": "Python 3",
   "language": "python",
   "name": "python3"
  },
  "language_info": {
   "codemirror_mode": {
    "name": "ipython",
    "version": 3
   },
   "file_extension": ".py",
   "mimetype": "text/x-python",
   "name": "python",
   "nbconvert_exporter": "python",
   "pygments_lexer": "ipython3",
   "version": "3.4.3"
  }
 },
 "nbformat": 4,
 "nbformat_minor": 0
}
